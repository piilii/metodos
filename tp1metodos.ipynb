{
 "cells": [
  {
   "attachments": {},
   "cell_type": "markdown",
   "metadata": {},
   "source": [
    "Primera parte. El objetivo de esta sección es deducir una fórmula para la solución óptima $\\beta^\\ast$\n",
    "siguiendo los pasos a continuación:\n",
    "\n",
    "a. Mostrar que el espacio columna de la matriz $X$ es un subespacio vectorial de $R^n$: $Col(X)$ = {b en $R^n$ tales que $b=X\\beta$ con $\\beta$ variando en $R^p$}\n",
    "\n",
    "El espacio columna de una matriz $n_xp$ es un subespacio de $R^p$. $Col(X)\\in R^n$ solo cuando las columnas de $X$ generan $R^n$. \n",
    "Cuando un sistema de ecuaciones lineales esta escrito de la forma $Ax=b$ el espacio columna de $A$ es el conjunto de todas las $b$ para las que el sistema tiene una solución.\n",
    "En este caso tenemos $b=X\\beta$ con $b$ en $R^n$. Por lo tanto $Col(X)\\in R^n$."
   ]
  },
  {
   "attachments": {},
   "cell_type": "markdown",
   "metadata": {},
   "source": [
    "b. Supongamos que cuando hablamos de vectores en $R^n$ nos referimos a vectores columna de $R^{nx1}$.\n",
    "Mostrar en ese caso que el producto escalar entre dos vectores $u$, $v$ en $R^n$ puede calcularse como: $u\\cdot v=v^Tu$ donde operación en el lado derecho de la igualdad es el producto de matrices usual."
   ]
  },
  {
   "attachments": {},
   "cell_type": "markdown",
   "metadata": {},
   "source": [
    "c. Aplicando el teorema tomando como subespacio $S$ el subespacio del ítem (a), el punto $y$ de $R^n$ como el vector de la variable dependiente, y el vector $b$ como $b=X\\beta^\\ast$, convertir esta ecuación de optimalidad\n",
    "\n",
    "$∥y − X\\beta^\\ast∥$ $=$ $min_{\\beta\\in R^p}∥y − X\\beta∥$\n",
    "en la condición de ortogonalidad que corresponde a la equivalencia 2 del teorema.\n",
    "\n",
    "Sabemos por el teorema que $∥y − b∥$ $=$ $min_{s\\in S}∥y − s∥$ es equivalente a $(y-b)\\cdot s=0$ $\\forall s \\in S$.\n",
    "Tomando $∥y − X\\beta^\\ast∥$ $=$ $min_{\\beta\\in R^p}∥y − X\\beta∥$"
   ]
  }
 ],
 "metadata": {
  "language_info": {
   "name": "python"
  },
  "orig_nbformat": 4
 },
 "nbformat": 4,
 "nbformat_minor": 2
}
