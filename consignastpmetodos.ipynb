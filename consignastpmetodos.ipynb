{
 "cells": [
  {
   "attachments": {},
   "cell_type": "markdown",
   "metadata": {},
   "source": [
    "### Primera parte. El objetivo de esta sección es deducir una fórmula para la solución óptima $\\beta^\\ast$ siguiendo los pasos a continuación:\n",
    "\n",
    "##### a. Mostrar que el espacio columna de la matriz $X$ es un subespacio vectorial de $R^n$: $Col(X)$ = {b en $R^n$ tales que $b=X\\beta$ con $\\beta$ variando en $R^p$}\n",
    "##### b. Supongamos que cuando hablamos de vectores en $R^n$ nos referimos a vectores columna de $R^{nx1}$.\n",
    "##### c. Aplicando el teorema tomando como subespacio $S$ el subespacio del ítem (a), el punto $y$ de $R^n$ como el vector de la variable dependiente, y el vector $b$ como $b=X\\beta^\\ast$, convertir esta ecuación de optimalidad\n",
    "##### d. A la ecuación obtenida en el ítem (c), aplicarle la identidad del producto escalar vista en el item (b), para llegar a la ecuación: $(y - X\\beta^\\ast)\\cdot X\\beta = 0$\n",
    "##### e. Se sabe que el único vector que es ortogonal a todo vector $v$ de $R^n$ es el vector nulo. Es decir, si $u$ es un vector fijo tal que $u\\cdot v = 0$ para todo $v$ en $R^n$, entonces $u = 0$. Usando esto y la ecuación obtenida en el ítem (d), llegar a la fórmula: $X^TX\\beta^\\ast$ $=$ $X^Ty$\n",
    "##### f. Finalmente, suponiendo que las columnas de $X$ son linealmente independientes, se tiene que la matriz $X^TX$ es invertible. Despejar $\\beta^\\ast$ de la ecuación del ítem (e) para llegar a la fórmula de la solución óptima al problema de regresión.\n",
    "\n",
    "### Segunda parte. En esta sección la idea es realizar regresión lineal en $R^2$ y analizar como se comportan las soluciones obtenidas.\n",
    "##### 1.Usando los datos del archivo ejercicio_1.csv:\n",
    "##### a. Graficar todos los puntos en el plano xy.\n",
    "##### b. Utilizando los conceptos teóricos desarrollados en la primera parte, hallar la recta que mejor aproxima a los datos.\n",
    "##### c. Realizar nuevamente los incisos (a) y (b) pero considerando los puntos {$(x_i, y_i + 12)$ con $i=1\\dots n$} donde $(x_i, y_i)$ eran los puntos originales.\n",
    "##### ¿Es buena la aproximación realizada?, ¿cuál es el problema?\n",
    "##### d. ¿Cómo se podría extender el modelo para poder aproximar cualquier recta en el plano?\n",
    "##### 2. Usando los datos del archivo ejercicio_2.csv:\n",
    "##### a. Graficar y aproximar los puntos con una recta.\n",
    "##### b. Imaginemos que los datos forman parte de mediciones de algún tipo, como por ejemplo la temperatura de un procesador a lo largo del tiempo, y queremos predecir cuál va a ser la temperatura en el futuro. ¿Es buena la aproximación que realizamos?, ¿cuál fue el problema en este caso?"
   ]
  }
 ],
 "metadata": {
  "language_info": {
   "name": "python"
  },
  "orig_nbformat": 4
 },
 "nbformat": 4,
 "nbformat_minor": 2
}
